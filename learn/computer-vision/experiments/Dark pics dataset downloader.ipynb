{
 "cells": [
  {
   "cell_type": "markdown",
   "id": "bed0bb8f",
   "metadata": {},
   "source": [
    "# Init"
   ]
  },
  {
   "cell_type": "code",
   "execution_count": 1,
   "id": "c94fcd33",
   "metadata": {
    "ExecuteTime": {
     "end_time": "2021-05-06T09:40:55.911917Z",
     "start_time": "2021-05-06T09:40:53.358189Z"
    }
   },
   "outputs": [],
   "source": [
    "import pandas as pd\n",
    "import requests"
   ]
  },
  {
   "cell_type": "code",
   "execution_count": 2,
   "id": "fe55c227",
   "metadata": {
    "ExecuteTime": {
     "end_time": "2021-05-06T09:42:07.580896Z",
     "start_time": "2021-05-06T09:42:07.574372Z"
    }
   },
   "outputs": [],
   "source": [
    "data_folder = '/home/sushovan/workspace/quality-analysis-duty/jukshio-quality-analysis-Q3-2020/mlops curated data/'"
   ]
  },
  {
   "cell_type": "markdown",
   "id": "448d4a1d",
   "metadata": {},
   "source": [
    "## Load data"
   ]
  },
  {
   "cell_type": "code",
   "execution_count": 4,
   "id": "1739e1ef",
   "metadata": {
    "ExecuteTime": {
     "end_time": "2021-05-06T09:47:17.016696Z",
     "start_time": "2021-05-06T09:47:16.331909Z"
    }
   },
   "outputs": [
    {
     "data": {
      "text/html": [
       "<div>\n",
       "<style scoped>\n",
       "    .dataframe tbody tr th:only-of-type {\n",
       "        vertical-align: middle;\n",
       "    }\n",
       "\n",
       "    .dataframe tbody tr th {\n",
       "        vertical-align: top;\n",
       "    }\n",
       "\n",
       "    .dataframe thead th {\n",
       "        text-align: right;\n",
       "    }\n",
       "</style>\n",
       "<table border=\"1\" class=\"dataframe\">\n",
       "  <thead>\n",
       "    <tr style=\"text-align: right;\">\n",
       "      <th></th>\n",
       "      <th>xcall_id</th>\n",
       "      <th>ref_xcall_id</th>\n",
       "      <th>tag</th>\n",
       "      <th>dc_code</th>\n",
       "      <th>user_id</th>\n",
       "      <th>created_at</th>\n",
       "      <th>response_code</th>\n",
       "      <th>app_id</th>\n",
       "      <th>FL</th>\n",
       "      <th>FR</th>\n",
       "      <th>...</th>\n",
       "      <th>belowChinMask</th>\n",
       "      <th>gamchaOcclusion</th>\n",
       "      <th>helmetOcclusion</th>\n",
       "      <th>lowQualityImage</th>\n",
       "      <th>scarfsOcclusion</th>\n",
       "      <th>improperLighting</th>\n",
       "      <th>sunGlassesOcclusion</th>\n",
       "      <th>clearFrontalFace</th>\n",
       "      <th>partialFace</th>\n",
       "      <th>handsOnFace</th>\n",
       "    </tr>\n",
       "  </thead>\n",
       "  <tbody>\n",
       "    <tr>\n",
       "      <th>0</th>\n",
       "      <td>1ff2d2af2c86b368f2479510aa8752ee</td>\n",
       "      <td>1fe217609e044f0395e9b167f693e0c4</td>\n",
       "      <td>2</td>\n",
       "      <td>0</td>\n",
       "      <td>p10063964</td>\n",
       "      <td>2021-04-15 18:30:00.563169+00</td>\n",
       "      <td>200</td>\n",
       "      <td>rrmhere</td>\n",
       "      <td>NaN</td>\n",
       "      <td>NaN</td>\n",
       "      <td>...</td>\n",
       "      <td>NaN</td>\n",
       "      <td>NaN</td>\n",
       "      <td>NaN</td>\n",
       "      <td>NaN</td>\n",
       "      <td>NaN</td>\n",
       "      <td>NaN</td>\n",
       "      <td>NaN</td>\n",
       "      <td>NaN</td>\n",
       "      <td>NaN</td>\n",
       "      <td>NaN</td>\n",
       "    </tr>\n",
       "    <tr>\n",
       "      <th>1</th>\n",
       "      <td>bfd4f3d6f64c314b11cb611ed54cde37</td>\n",
       "      <td>f3fd87326823595dc1253c4987ac452d</td>\n",
       "      <td>2</td>\n",
       "      <td>0</td>\n",
       "      <td>p55004001</td>\n",
       "      <td>2021-04-15 18:30:02.237597+00</td>\n",
       "      <td>200</td>\n",
       "      <td>mhere</td>\n",
       "      <td>NaN</td>\n",
       "      <td>NaN</td>\n",
       "      <td>...</td>\n",
       "      <td>NaN</td>\n",
       "      <td>NaN</td>\n",
       "      <td>NaN</td>\n",
       "      <td>NaN</td>\n",
       "      <td>NaN</td>\n",
       "      <td>NaN</td>\n",
       "      <td>NaN</td>\n",
       "      <td>NaN</td>\n",
       "      <td>NaN</td>\n",
       "      <td>NaN</td>\n",
       "    </tr>\n",
       "    <tr>\n",
       "      <th>2</th>\n",
       "      <td>27a4c77b4b5614a3c15e363e6fc0ff98</td>\n",
       "      <td>79a70063ee154565740929188a9a3a55</td>\n",
       "      <td>2</td>\n",
       "      <td>0</td>\n",
       "      <td>c000062354</td>\n",
       "      <td>2021-04-15 18:30:02.352336+00</td>\n",
       "      <td>200</td>\n",
       "      <td>mhere</td>\n",
       "      <td>NaN</td>\n",
       "      <td>NaN</td>\n",
       "      <td>...</td>\n",
       "      <td>NaN</td>\n",
       "      <td>NaN</td>\n",
       "      <td>NaN</td>\n",
       "      <td>NaN</td>\n",
       "      <td>NaN</td>\n",
       "      <td>NaN</td>\n",
       "      <td>NaN</td>\n",
       "      <td>NaN</td>\n",
       "      <td>NaN</td>\n",
       "      <td>NaN</td>\n",
       "    </tr>\n",
       "    <tr>\n",
       "      <th>3</th>\n",
       "      <td>9b3a464aac8da6e55f82b2093caaa70b</td>\n",
       "      <td>63237da92c4d4a3dc8d570ec793312dd</td>\n",
       "      <td>2</td>\n",
       "      <td>0</td>\n",
       "      <td>p50033098</td>\n",
       "      <td>2021-04-15 18:30:04.747613+00</td>\n",
       "      <td>200</td>\n",
       "      <td>rrmhere</td>\n",
       "      <td>NaN</td>\n",
       "      <td>NaN</td>\n",
       "      <td>...</td>\n",
       "      <td>NaN</td>\n",
       "      <td>NaN</td>\n",
       "      <td>NaN</td>\n",
       "      <td>NaN</td>\n",
       "      <td>NaN</td>\n",
       "      <td>NaN</td>\n",
       "      <td>NaN</td>\n",
       "      <td>NaN</td>\n",
       "      <td>NaN</td>\n",
       "      <td>NaN</td>\n",
       "    </tr>\n",
       "    <tr>\n",
       "      <th>4</th>\n",
       "      <td>d65b8730d607f40f49085634df3110d1</td>\n",
       "      <td>56e444ad835b54e5588647cc6bb3fd42</td>\n",
       "      <td>2</td>\n",
       "      <td>0</td>\n",
       "      <td>p67551686</td>\n",
       "      <td>2021-04-15 18:30:07.243792+00</td>\n",
       "      <td>200</td>\n",
       "      <td>mhere</td>\n",
       "      <td>NaN</td>\n",
       "      <td>NaN</td>\n",
       "      <td>...</td>\n",
       "      <td>NaN</td>\n",
       "      <td>NaN</td>\n",
       "      <td>NaN</td>\n",
       "      <td>NaN</td>\n",
       "      <td>NaN</td>\n",
       "      <td>NaN</td>\n",
       "      <td>NaN</td>\n",
       "      <td>NaN</td>\n",
       "      <td>NaN</td>\n",
       "      <td>NaN</td>\n",
       "    </tr>\n",
       "  </tbody>\n",
       "</table>\n",
       "<p>5 rows × 47 columns</p>\n",
       "</div>"
      ],
      "text/plain": [
       "                           xcall_id                      ref_xcall_id  tag  \\\n",
       "0  1ff2d2af2c86b368f2479510aa8752ee  1fe217609e044f0395e9b167f693e0c4    2   \n",
       "1  bfd4f3d6f64c314b11cb611ed54cde37  f3fd87326823595dc1253c4987ac452d    2   \n",
       "2  27a4c77b4b5614a3c15e363e6fc0ff98  79a70063ee154565740929188a9a3a55    2   \n",
       "3  9b3a464aac8da6e55f82b2093caaa70b  63237da92c4d4a3dc8d570ec793312dd    2   \n",
       "4  d65b8730d607f40f49085634df3110d1  56e444ad835b54e5588647cc6bb3fd42    2   \n",
       "\n",
       "  dc_code     user_id                     created_at  response_code   app_id  \\\n",
       "0       0   p10063964  2021-04-15 18:30:00.563169+00            200  rrmhere   \n",
       "1       0   p55004001  2021-04-15 18:30:02.237597+00            200    mhere   \n",
       "2       0  c000062354  2021-04-15 18:30:02.352336+00            200    mhere   \n",
       "3       0   p50033098  2021-04-15 18:30:04.747613+00            200  rrmhere   \n",
       "4       0   p67551686  2021-04-15 18:30:07.243792+00            200    mhere   \n",
       "\n",
       "    FL   FR  ...  belowChinMask gamchaOcclusion  helmetOcclusion  \\\n",
       "0  NaN  NaN  ...            NaN             NaN              NaN   \n",
       "1  NaN  NaN  ...            NaN             NaN              NaN   \n",
       "2  NaN  NaN  ...            NaN             NaN              NaN   \n",
       "3  NaN  NaN  ...            NaN             NaN              NaN   \n",
       "4  NaN  NaN  ...            NaN             NaN              NaN   \n",
       "\n",
       "   lowQualityImage  scarfsOcclusion improperLighting  sunGlassesOcclusion  \\\n",
       "0              NaN              NaN              NaN                  NaN   \n",
       "1              NaN              NaN              NaN                  NaN   \n",
       "2              NaN              NaN              NaN                  NaN   \n",
       "3              NaN              NaN              NaN                  NaN   \n",
       "4              NaN              NaN              NaN                  NaN   \n",
       "\n",
       "   clearFrontalFace partialFace handsOnFace  \n",
       "0               NaN         NaN         NaN  \n",
       "1               NaN         NaN         NaN  \n",
       "2               NaN         NaN         NaN  \n",
       "3               NaN         NaN         NaN  \n",
       "4               NaN         NaN         NaN  \n",
       "\n",
       "[5 rows x 47 columns]"
      ]
     },
     "execution_count": 4,
     "metadata": {},
     "output_type": "execute_result"
    }
   ],
   "source": [
    "data1 = pd.read_csv(data_folder + 'April_16th_Mhere_MA - April_16th_Mhere_MA.csv')\n",
    "data1.head()"
   ]
  },
  {
   "cell_type": "code",
   "execution_count": 5,
   "id": "1e7215aa",
   "metadata": {
    "ExecuteTime": {
     "end_time": "2021-05-06T09:47:51.596712Z",
     "start_time": "2021-05-06T09:47:51.584003Z"
    }
   },
   "outputs": [
    {
     "data": {
      "text/plain": [
       "Index(['xcall_id', 'ref_xcall_id', 'tag', 'dc_code', 'user_id', 'created_at',\n",
       "       'response_code', 'app_id', 'FL', 'FR', 'sigmoid_result', 'deviceOs',\n",
       "       'sufi_threshold', 'sufi_score', 'distance', 'distanceStr',\n",
       "       'goldenmatch', 'gs_match_count', 'IsFaceOcclusion', 'IsMaskOcclusion',\n",
       "       'mask_occlusion_score', 'face_occlusion_score', 'blur', 'fake', 'beard',\n",
       "       'visor', 'others', 'frontal', 'fullMask', 'lowLight', 'darkLight',\n",
       "       'eyesClose', 'nonFrontal', 'partialMask', 'capOcclusion',\n",
       "       'maskAndVisor', 'partialFaces', 'belowChinMask', 'gamchaOcclusion',\n",
       "       'helmetOcclusion', 'lowQualityImage', 'scarfsOcclusion',\n",
       "       'improperLighting', 'sunGlassesOcclusion', 'clearFrontalFace',\n",
       "       'partialFace', 'handsOnFace'],\n",
       "      dtype='object')"
      ]
     },
     "execution_count": 5,
     "metadata": {},
     "output_type": "execute_result"
    }
   ],
   "source": [
    "data1.columns"
   ]
  },
  {
   "cell_type": "markdown",
   "id": "0fd08775",
   "metadata": {},
   "source": [
    "# Extract training examples"
   ]
  },
  {
   "cell_type": "markdown",
   "id": "865a6f46",
   "metadata": {},
   "source": [
    "## Extract very dark cases"
   ]
  },
  {
   "cell_type": "markdown",
   "id": "b500b958",
   "metadata": {},
   "source": [
    "### Get xcall ids"
   ]
  },
  {
   "cell_type": "code",
   "execution_count": 9,
   "id": "d3d0722f",
   "metadata": {
    "ExecuteTime": {
     "end_time": "2021-05-06T09:50:21.570465Z",
     "start_time": "2021-05-06T09:50:21.549189Z"
    }
   },
   "outputs": [],
   "source": [
    "train_very_dark_sample_1 = data1.loc[data1['darkLight'] == True, ['xcall_id']]"
   ]
  },
  {
   "cell_type": "code",
   "execution_count": 10,
   "id": "c7a8db62",
   "metadata": {
    "ExecuteTime": {
     "end_time": "2021-05-06T09:50:27.314165Z",
     "start_time": "2021-05-06T09:50:27.290323Z"
    }
   },
   "outputs": [
    {
     "data": {
      "text/html": [
       "<div>\n",
       "<style scoped>\n",
       "    .dataframe tbody tr th:only-of-type {\n",
       "        vertical-align: middle;\n",
       "    }\n",
       "\n",
       "    .dataframe tbody tr th {\n",
       "        vertical-align: top;\n",
       "    }\n",
       "\n",
       "    .dataframe thead th {\n",
       "        text-align: right;\n",
       "    }\n",
       "</style>\n",
       "<table border=\"1\" class=\"dataframe\">\n",
       "  <thead>\n",
       "    <tr style=\"text-align: right;\">\n",
       "      <th></th>\n",
       "      <th>xcall_id</th>\n",
       "    </tr>\n",
       "  </thead>\n",
       "  <tbody>\n",
       "    <tr>\n",
       "      <th>282</th>\n",
       "      <td>e2e0b7ff1cc5decf68f0c897ecc3486a</td>\n",
       "    </tr>\n",
       "    <tr>\n",
       "      <th>285</th>\n",
       "      <td>4bf9379c6af2ece72fcd3235268d8ad2</td>\n",
       "    </tr>\n",
       "    <tr>\n",
       "      <th>326</th>\n",
       "      <td>e22b5bec5abf4da3041c201836b03879</td>\n",
       "    </tr>\n",
       "    <tr>\n",
       "      <th>505</th>\n",
       "      <td>203bda32fc9d76334a5f644334ffcb6a</td>\n",
       "    </tr>\n",
       "    <tr>\n",
       "      <th>637</th>\n",
       "      <td>af2c8abf16636f738ec9b958ba65aea8</td>\n",
       "    </tr>\n",
       "    <tr>\n",
       "      <th>...</th>\n",
       "      <td>...</td>\n",
       "    </tr>\n",
       "    <tr>\n",
       "      <th>48015</th>\n",
       "      <td>7d89dd142de98ea7e8e3a66c1f209563</td>\n",
       "    </tr>\n",
       "    <tr>\n",
       "      <th>48016</th>\n",
       "      <td>0a48ceb4db4f161e51f20165f3a0ce2b</td>\n",
       "    </tr>\n",
       "    <tr>\n",
       "      <th>48019</th>\n",
       "      <td>f151ffaa70e8048c6901457bcbba192d</td>\n",
       "    </tr>\n",
       "    <tr>\n",
       "      <th>48083</th>\n",
       "      <td>96b4ca1c3ef652d5c7eb1812b6e8806c</td>\n",
       "    </tr>\n",
       "    <tr>\n",
       "      <th>48257</th>\n",
       "      <td>e202476e3e2716c5198575f6daec58f8</td>\n",
       "    </tr>\n",
       "  </tbody>\n",
       "</table>\n",
       "<p>335 rows × 1 columns</p>\n",
       "</div>"
      ],
      "text/plain": [
       "                               xcall_id\n",
       "282    e2e0b7ff1cc5decf68f0c897ecc3486a\n",
       "285    4bf9379c6af2ece72fcd3235268d8ad2\n",
       "326    e22b5bec5abf4da3041c201836b03879\n",
       "505    203bda32fc9d76334a5f644334ffcb6a\n",
       "637    af2c8abf16636f738ec9b958ba65aea8\n",
       "...                                 ...\n",
       "48015  7d89dd142de98ea7e8e3a66c1f209563\n",
       "48016  0a48ceb4db4f161e51f20165f3a0ce2b\n",
       "48019  f151ffaa70e8048c6901457bcbba192d\n",
       "48083  96b4ca1c3ef652d5c7eb1812b6e8806c\n",
       "48257  e202476e3e2716c5198575f6daec58f8\n",
       "\n",
       "[335 rows x 1 columns]"
      ]
     },
     "execution_count": 10,
     "metadata": {},
     "output_type": "execute_result"
    }
   ],
   "source": [
    "train_very_dark_sample_1"
   ]
  },
  {
   "cell_type": "markdown",
   "id": "f1cce73b",
   "metadata": {},
   "source": [
    "### Fetch images and store them in train set"
   ]
  },
  {
   "cell_type": "code",
   "execution_count": 11,
   "id": "e1dd52b4",
   "metadata": {
    "ExecuteTime": {
     "end_time": "2021-05-06T09:53:49.674670Z",
     "start_time": "2021-05-06T09:53:49.668667Z"
    }
   },
   "outputs": [],
   "source": [
    "get_request_link = 'https://apis-mhere-ci-prod.vishwamcorp.com/v2/traces/{}/image2.png'"
   ]
  },
  {
   "cell_type": "code",
   "execution_count": 16,
   "id": "4838c90e",
   "metadata": {
    "ExecuteTime": {
     "end_time": "2021-05-06T10:09:42.323323Z",
     "start_time": "2021-05-06T10:00:55.629693Z"
    }
   },
   "outputs": [],
   "source": [
    "for xcall_id in train_very_dark_sample_1['xcall_id']:\n",
    "    response = requests.get(get_request_link.format(xcall_id))\n",
    "    with open(\"images/train/very_dark/{}_image2.png\".format(xcall_id), \"wb\") as image_handle:\n",
    "        image_handle.write(response.content)"
   ]
  },
  {
   "cell_type": "markdown",
   "id": "41f4c941",
   "metadata": {},
   "source": [
    "## Extract less dark cases"
   ]
  },
  {
   "cell_type": "markdown",
   "id": "3fe98c00",
   "metadata": {},
   "source": [
    "### Get xcall ids"
   ]
  },
  {
   "cell_type": "code",
   "execution_count": 17,
   "id": "dd63392d",
   "metadata": {
    "ExecuteTime": {
     "end_time": "2021-05-06T10:18:34.378103Z",
     "start_time": "2021-05-06T10:18:34.354326Z"
    }
   },
   "outputs": [],
   "source": [
    "train_dark_sample_1 = data1.loc[data1['improperLighting'] == True, ['xcall_id']]"
   ]
  },
  {
   "cell_type": "code",
   "execution_count": 18,
   "id": "ea710f2b",
   "metadata": {
    "ExecuteTime": {
     "end_time": "2021-05-06T10:18:34.582109Z",
     "start_time": "2021-05-06T10:18:34.570061Z"
    }
   },
   "outputs": [
    {
     "data": {
      "text/html": [
       "<div>\n",
       "<style scoped>\n",
       "    .dataframe tbody tr th:only-of-type {\n",
       "        vertical-align: middle;\n",
       "    }\n",
       "\n",
       "    .dataframe tbody tr th {\n",
       "        vertical-align: top;\n",
       "    }\n",
       "\n",
       "    .dataframe thead th {\n",
       "        text-align: right;\n",
       "    }\n",
       "</style>\n",
       "<table border=\"1\" class=\"dataframe\">\n",
       "  <thead>\n",
       "    <tr style=\"text-align: right;\">\n",
       "      <th></th>\n",
       "      <th>xcall_id</th>\n",
       "    </tr>\n",
       "  </thead>\n",
       "  <tbody>\n",
       "    <tr>\n",
       "      <th>142</th>\n",
       "      <td>19c906e1723993edf24e01b620f00739</td>\n",
       "    </tr>\n",
       "    <tr>\n",
       "      <th>194</th>\n",
       "      <td>087bfa38d1af665c9bf63c59e7cee25d</td>\n",
       "    </tr>\n",
       "    <tr>\n",
       "      <th>460</th>\n",
       "      <td>4d657ed287f405bae50138be6b86418a</td>\n",
       "    </tr>\n",
       "    <tr>\n",
       "      <th>587</th>\n",
       "      <td>7fc3207d996a5fbb861d43bf7e89b78e</td>\n",
       "    </tr>\n",
       "    <tr>\n",
       "      <th>608</th>\n",
       "      <td>2302fcd136eb82901049d265903dbbd4</td>\n",
       "    </tr>\n",
       "    <tr>\n",
       "      <th>...</th>\n",
       "      <td>...</td>\n",
       "    </tr>\n",
       "    <tr>\n",
       "      <th>48222</th>\n",
       "      <td>c9d867584473c6311e41a288a917a935</td>\n",
       "    </tr>\n",
       "    <tr>\n",
       "      <th>48225</th>\n",
       "      <td>ec515c7c5943b95fb3eba07a7fe352df</td>\n",
       "    </tr>\n",
       "    <tr>\n",
       "      <th>48246</th>\n",
       "      <td>4fd520267b15db9810ff5616fd66c997</td>\n",
       "    </tr>\n",
       "    <tr>\n",
       "      <th>48252</th>\n",
       "      <td>f3751f9dd093c06673301bb9d97ec315</td>\n",
       "    </tr>\n",
       "    <tr>\n",
       "      <th>48272</th>\n",
       "      <td>0d06c7ded2cca5bbee275133c660b7f7</td>\n",
       "    </tr>\n",
       "  </tbody>\n",
       "</table>\n",
       "<p>1474 rows × 1 columns</p>\n",
       "</div>"
      ],
      "text/plain": [
       "                               xcall_id\n",
       "142    19c906e1723993edf24e01b620f00739\n",
       "194    087bfa38d1af665c9bf63c59e7cee25d\n",
       "460    4d657ed287f405bae50138be6b86418a\n",
       "587    7fc3207d996a5fbb861d43bf7e89b78e\n",
       "608    2302fcd136eb82901049d265903dbbd4\n",
       "...                                 ...\n",
       "48222  c9d867584473c6311e41a288a917a935\n",
       "48225  ec515c7c5943b95fb3eba07a7fe352df\n",
       "48246  4fd520267b15db9810ff5616fd66c997\n",
       "48252  f3751f9dd093c06673301bb9d97ec315\n",
       "48272  0d06c7ded2cca5bbee275133c660b7f7\n",
       "\n",
       "[1474 rows x 1 columns]"
      ]
     },
     "execution_count": 18,
     "metadata": {},
     "output_type": "execute_result"
    }
   ],
   "source": [
    "train_dark_sample_1"
   ]
  },
  {
   "cell_type": "markdown",
   "id": "dc89a19b",
   "metadata": {},
   "source": [
    "### Fetch images and store them in train set"
   ]
  },
  {
   "cell_type": "code",
   "execution_count": 19,
   "id": "d7d0f7f7",
   "metadata": {
    "ExecuteTime": {
     "end_time": "2021-05-06T10:18:53.727033Z",
     "start_time": "2021-05-06T10:18:53.720870Z"
    }
   },
   "outputs": [],
   "source": [
    "get_request_link = 'https://apis-mhere-ci-prod.vishwamcorp.com/v2/traces/{}/image2.png'"
   ]
  },
  {
   "cell_type": "code",
   "execution_count": 20,
   "id": "a47608a2",
   "metadata": {
    "ExecuteTime": {
     "end_time": "2021-05-06T11:02:33.435014Z",
     "start_time": "2021-05-06T10:20:30.790623Z"
    }
   },
   "outputs": [],
   "source": [
    "for xcall_id in train_dark_sample_1['xcall_id']:\n",
    "    response = requests.get(get_request_link.format(xcall_id))\n",
    "    with open(\"images/train/low_dark/{}_image2.png\".format(xcall_id), \"wb\") as image_handle:\n",
    "        image_handle.write(response.content)"
   ]
  },
  {
   "cell_type": "code",
   "execution_count": null,
   "id": "8b9c06c1",
   "metadata": {},
   "outputs": [],
   "source": []
  }
 ],
 "metadata": {
  "kernelspec": {
   "display_name": "Python 3",
   "language": "python",
   "name": "python3"
  },
  "language_info": {
   "codemirror_mode": {
    "name": "ipython",
    "version": 3
   },
   "file_extension": ".py",
   "mimetype": "text/x-python",
   "name": "python",
   "nbconvert_exporter": "python",
   "pygments_lexer": "ipython3",
   "version": "3.9.2"
  },
  "toc": {
   "base_numbering": 1,
   "nav_menu": {},
   "number_sections": true,
   "sideBar": true,
   "skip_h1_title": false,
   "title_cell": "Table of Contents",
   "title_sidebar": "Contents",
   "toc_cell": false,
   "toc_position": {},
   "toc_section_display": true,
   "toc_window_display": false
  },
  "varInspector": {
   "cols": {
    "lenName": 16,
    "lenType": 16,
    "lenVar": 40
   },
   "kernels_config": {
    "python": {
     "delete_cmd_postfix": "",
     "delete_cmd_prefix": "del ",
     "library": "var_list.py",
     "varRefreshCmd": "print(var_dic_list())"
    },
    "r": {
     "delete_cmd_postfix": ") ",
     "delete_cmd_prefix": "rm(",
     "library": "var_list.r",
     "varRefreshCmd": "cat(var_dic_list()) "
    }
   },
   "types_to_exclude": [
    "module",
    "function",
    "builtin_function_or_method",
    "instance",
    "_Feature"
   ],
   "window_display": false
  }
 },
 "nbformat": 4,
 "nbformat_minor": 5
}
